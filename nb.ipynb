{
 "cells": [
  {
   "cell_type": "markdown",
   "metadata": {},
   "source": [
    "# Candidate_CodingCommunity_Contributions_RankingPrediction_Algorithm \n",
    "    - Scraping, aggregating and assessing technical ability of a candidate based on publicly available sources"
   ]
  },
  {
   "cell_type": "markdown",
   "metadata": {},
   "source": [
    "## Problem Statement \n",
    "\n",
    "The current interview scenario is biased towards \"candidate's performance during the 2 hour interview\" and doesn't take other factors into account such as candidate's competitive coding abilities, contribution towards developer community and so on.\n",
    "\n",
    "## Approach\n",
    "\n",
    "Scorey tries to solve this problem by aggregating publicly available data from various websites such as \n",
    "    * Github\n",
    "    * StackOverflow\n",
    "    * CodeChef\n",
    "    * Codebuddy\n",
    "    * Codeforces\n",
    "    * Hackerearth\n",
    "    * SPOJ\n",
    "    * GitAwards\n",
    "\n",
    "Once the data is collected, the algorithm then defines a comprehensive scoring system that grades the candidates technical capablities based on following factors \n",
    "    - Ranking\n",
    "    - Number of Problems Solved\n",
    "    - Activity\n",
    "    - Reputation\n",
    "    - Contribution\n",
    "    - Followers\n",
    "\n",
    "The candidate is then assigned a scored out of 100 <br>\n",
    "This helps the interviewer get a full view of candidates abilties and therefore helps them make a unbiased, informed decision.\n",
    "\n",
    "\n",
    "-------\n",
    "\n",
    "## ( Initial Setup )"
   ]
  },
  {
   "cell_type": "code",
   "execution_count": 1,
   "metadata": {},
   "outputs": [],
   "source": [
    "def color_negative_red(val):\n",
    "    \"\"\"\n",
    "    Takes a scalar and returns a string with\n",
    "    the css property `'color: red'` for negative\n",
    "    strings, black otherwise.\n",
    "    \"\"\"\n",
    "    color = 'red' if val > 0 else 'black'\n",
    "    return 'color: %s' % color"
   ]
  },
  {
   "cell_type": "code",
   "execution_count": 2,
   "metadata": {},
   "outputs": [],
   "source": [
    "# Set CSS properties for th elements in dataframe\n",
    "th_props = [\n",
    "  ('font-size', '15px'),\n",
    "  ('text-align', 'center'),\n",
    "  ('font-weight', 'bold'),\n",
    "  ('color', '#00c936'),\n",
    "  ('background-color', '##f7f7f7')\n",
    "  ]\n",
    "\n",
    "# Set CSS properties for td elements in dataframe\n",
    "td_props = [\n",
    "  ('font-size', '15px'),\n",
    "    ('font-weight', 'bold')\n",
    "  ]\n",
    "\n",
    "# Set table styles\n",
    "styles = [\n",
    "  dict(selector=\"th\", props=th_props),\n",
    "  dict(selector=\"td\", props=td_props)\n",
    "  ]"
   ]
  },
  {
   "cell_type": "markdown",
   "metadata": {},
   "source": [
    "-------\n",
    "\n",
    "## Candidate's Username\n",
    "\n",
    "- This information can be extracted in two ways <br>\n",
    "    - Parsing the resume\n",
    "    - Adding additional fields in the job application form\n",
    "    - Scrape it from personal website"
   ]
  },
  {
   "cell_type": "code",
   "execution_count": 51,
   "metadata": {},
   "outputs": [],
   "source": [
    "import urllib.request\n",
    "import requests\n",
    "#return requests.get(url).json()\n",
    "import json\n",
    "import csv\n",
    "\n",
    "serviceurl = 'https://api.github.com/users/'\n",
    "#user = 'poke19962008'\n",
    "\n",
    "user = input('Enter candidates username - ')"
   ]
  },
  {
   "cell_type": "markdown",
   "metadata": {},
   "source": [
    "## Extracting all possible links/ usernames from personal website"
   ]
  },
  {
   "cell_type": "code",
   "execution_count": 69,
   "metadata": {},
   "outputs": [
    {
     "name": "stdout",
     "output_type": "stream",
     "text": [
      "https://drive.google.com/open?id=1YyjoWND218uKDiETBK1mZdFjsfKSHKBg\n",
      "page.html\n",
      "https://github.com/warmachine0609\n",
      "https://linkedin.com/in/naman-doshi\n",
      "https://www.youtube.com/channel/UC1jKp2W8e99f99KoSZxOmDA/featured?view_as=subscriber\n",
      "https://twitter.com/gofornaman\n",
      "https://medium.com/@namandoshi\n",
      "http://gofornaman.co/cli\n"
     ]
    }
   ],
   "source": [
    "from bs4 import BeautifulSoup\n",
    "import urllib\n",
    "import urllib.parse\n",
    "import urllib.request\n",
    "from urllib.request import urlopen\n",
    "\n",
    "url = input('Enter your personal website - ')\n",
    "\n",
    "html = urlopen(url).read()\n",
    "soup = BeautifulSoup(html, \"lxml\")\n",
    "\n",
    "tags = soup('a')\n",
    "\n",
    "for tag in tags:\n",
    "    print (tag.get('href',None))\n"
   ]
  },
  {
   "cell_type": "markdown",
   "metadata": {},
   "source": [
    "## 1. Github"
   ]
  },
  {
   "cell_type": "code",
   "execution_count": 4,
   "metadata": {},
   "outputs": [
    {
     "name": "stdout",
     "output_type": "stream",
     "text": [
      "Retrieving https://api.github.com/users/poke19962008?access_token=0b330104cd6dc94a8c29afb28a77ee8398e1c77b\n"
     ]
    }
   ],
   "source": [
    "user = 'poke19962008'\n",
    "#user = raw_input('Enter user_name : ')\n",
    "#if len(user) < 1 : break\n",
    "serviceurl += user +'?'\n",
    "access_token = \"0b330104cd6dc94a8c29afb28a77ee8398e1c77b\"\n",
    "url = serviceurl + urllib.parse.urlencode({'access_token': access_token})\n",
    "print('Retrieving', url)\n",
    "uh = urllib.request.urlopen(url)\n",
    "data = uh.read()\n",
    "    #print data\n",
    "#js = json.loads(str(data))\n",
    "js = json.loads(data.decode(\"utf-8\"))"
   ]
  },
  {
   "cell_type": "code",
   "execution_count": 5,
   "metadata": {},
   "outputs": [
    {
     "data": {
      "text/plain": [
       "{'login': 'poke19962008',\n",
       " 'id': 9280180,\n",
       " 'node_id': 'MDQ6VXNlcjkyODAxODA=',\n",
       " 'avatar_url': 'https://avatars2.githubusercontent.com/u/9280180?v=4',\n",
       " 'gravatar_id': '',\n",
       " 'url': 'https://api.github.com/users/poke19962008',\n",
       " 'html_url': 'https://github.com/poke19962008',\n",
       " 'followers_url': 'https://api.github.com/users/poke19962008/followers',\n",
       " 'following_url': 'https://api.github.com/users/poke19962008/following{/other_user}',\n",
       " 'gists_url': 'https://api.github.com/users/poke19962008/gists{/gist_id}',\n",
       " 'starred_url': 'https://api.github.com/users/poke19962008/starred{/owner}{/repo}',\n",
       " 'subscriptions_url': 'https://api.github.com/users/poke19962008/subscriptions',\n",
       " 'organizations_url': 'https://api.github.com/users/poke19962008/orgs',\n",
       " 'repos_url': 'https://api.github.com/users/poke19962008/repos',\n",
       " 'events_url': 'https://api.github.com/users/poke19962008/events{/privacy}',\n",
       " 'received_events_url': 'https://api.github.com/users/poke19962008/received_events',\n",
       " 'type': 'User',\n",
       " 'site_admin': False,\n",
       " 'name': 'Sayan Das',\n",
       " 'company': 'SRM University',\n",
       " 'blog': 'http://sayandas.xyz/',\n",
       " 'location': 'Chennai, India',\n",
       " 'email': 'poke19962008@gmail.com',\n",
       " 'hireable': True,\n",
       " 'bio': 'B.Tech final year in Computer Science at SRM University. I am open for  projects or avenues that can help me learn new things in the world of computers.',\n",
       " 'public_repos': 38,\n",
       " 'public_gists': 5,\n",
       " 'followers': 48,\n",
       " 'following': 57,\n",
       " 'created_at': '2014-10-17T08:35:18Z',\n",
       " 'updated_at': '2018-06-19T04:16:23Z',\n",
       " 'private_gists': 1,\n",
       " 'total_private_repos': 2,\n",
       " 'owned_private_repos': 2,\n",
       " 'disk_usage': 157787,\n",
       " 'collaborators': 1,\n",
       " 'two_factor_authentication': False,\n",
       " 'plan': {'name': 'developer',\n",
       "  'space': 976562499,\n",
       "  'collaborators': 0,\n",
       "  'private_repos': 9999}}"
      ]
     },
     "execution_count": 5,
     "metadata": {},
     "output_type": "execute_result"
    }
   ],
   "source": [
    "js"
   ]
  },
  {
   "cell_type": "code",
   "execution_count": 6,
   "metadata": {},
   "outputs": [],
   "source": [
    "import pandas as pd\n",
    "df = pd.DataFrame.from_dict(js, orient='columns')"
   ]
  },
  {
   "cell_type": "code",
   "execution_count": 7,
   "metadata": {},
   "outputs": [
    {
     "data": {
      "text/html": [
       "<div>\n",
       "<style scoped>\n",
       "    .dataframe tbody tr th:only-of-type {\n",
       "        vertical-align: middle;\n",
       "    }\n",
       "\n",
       "    .dataframe tbody tr th {\n",
       "        vertical-align: top;\n",
       "    }\n",
       "\n",
       "    .dataframe thead th {\n",
       "        text-align: right;\n",
       "    }\n",
       "</style>\n",
       "<table border=\"1\" class=\"dataframe\">\n",
       "  <thead>\n",
       "    <tr style=\"text-align: right;\">\n",
       "      <th></th>\n",
       "      <th>avatar_url</th>\n",
       "      <th>bio</th>\n",
       "      <th>blog</th>\n",
       "      <th>collaborators</th>\n",
       "      <th>company</th>\n",
       "      <th>created_at</th>\n",
       "      <th>disk_usage</th>\n",
       "      <th>email</th>\n",
       "      <th>events_url</th>\n",
       "      <th>followers</th>\n",
       "      <th>...</th>\n",
       "      <th>received_events_url</th>\n",
       "      <th>repos_url</th>\n",
       "      <th>site_admin</th>\n",
       "      <th>starred_url</th>\n",
       "      <th>subscriptions_url</th>\n",
       "      <th>total_private_repos</th>\n",
       "      <th>two_factor_authentication</th>\n",
       "      <th>type</th>\n",
       "      <th>updated_at</th>\n",
       "      <th>url</th>\n",
       "    </tr>\n",
       "  </thead>\n",
       "  <tbody>\n",
       "    <tr>\n",
       "      <th>space</th>\n",
       "      <td>https://avatars2.githubusercontent.com/u/92801...</td>\n",
       "      <td>B.Tech final year in Computer Science at SRM U...</td>\n",
       "      <td>http://sayandas.xyz/</td>\n",
       "      <td>1</td>\n",
       "      <td>SRM University</td>\n",
       "      <td>2014-10-17T08:35:18Z</td>\n",
       "      <td>157787</td>\n",
       "      <td>poke19962008@gmail.com</td>\n",
       "      <td>https://api.github.com/users/poke19962008/even...</td>\n",
       "      <td>48</td>\n",
       "      <td>...</td>\n",
       "      <td>https://api.github.com/users/poke19962008/rece...</td>\n",
       "      <td>https://api.github.com/users/poke19962008/repos</td>\n",
       "      <td>False</td>\n",
       "      <td>https://api.github.com/users/poke19962008/star...</td>\n",
       "      <td>https://api.github.com/users/poke19962008/subs...</td>\n",
       "      <td>2</td>\n",
       "      <td>False</td>\n",
       "      <td>User</td>\n",
       "      <td>2018-06-19T04:16:23Z</td>\n",
       "      <td>https://api.github.com/users/poke19962008</td>\n",
       "    </tr>\n",
       "  </tbody>\n",
       "</table>\n",
       "<p>1 rows × 38 columns</p>\n",
       "</div>"
      ],
      "text/plain": [
       "                                              avatar_url  \\\n",
       "space  https://avatars2.githubusercontent.com/u/92801...   \n",
       "\n",
       "                                                     bio  \\\n",
       "space  B.Tech final year in Computer Science at SRM U...   \n",
       "\n",
       "                       blog  collaborators         company  \\\n",
       "space  http://sayandas.xyz/              1  SRM University   \n",
       "\n",
       "                 created_at  disk_usage                   email  \\\n",
       "space  2014-10-17T08:35:18Z      157787  poke19962008@gmail.com   \n",
       "\n",
       "                                              events_url  followers  \\\n",
       "space  https://api.github.com/users/poke19962008/even...         48   \n",
       "\n",
       "                         ...                      \\\n",
       "space                    ...                       \n",
       "\n",
       "                                     received_events_url  \\\n",
       "space  https://api.github.com/users/poke19962008/rece...   \n",
       "\n",
       "                                             repos_url site_admin  \\\n",
       "space  https://api.github.com/users/poke19962008/repos      False   \n",
       "\n",
       "                                             starred_url  \\\n",
       "space  https://api.github.com/users/poke19962008/star...   \n",
       "\n",
       "                                       subscriptions_url  total_private_repos  \\\n",
       "space  https://api.github.com/users/poke19962008/subs...                    2   \n",
       "\n",
       "      two_factor_authentication  type            updated_at  \\\n",
       "space                     False  User  2018-06-19T04:16:23Z   \n",
       "\n",
       "                                             url  \n",
       "space  https://api.github.com/users/poke19962008  \n",
       "\n",
       "[1 rows x 38 columns]"
      ]
     },
     "execution_count": 7,
     "metadata": {},
     "output_type": "execute_result"
    }
   ],
   "source": [
    "df = df.iloc[3:]\n",
    "df"
   ]
  },
  {
   "cell_type": "code",
   "execution_count": 8,
   "metadata": {},
   "outputs": [],
   "source": [
    "df_new = df.filter(['email','public_repos','followers','hireable','company','updated_at'], axis=1)"
   ]
  },
  {
   "cell_type": "code",
   "execution_count": 9,
   "metadata": {},
   "outputs": [
    {
     "data": {
      "text/html": [
       "<style  type=\"text/css\" >\n",
       "    #T_b1b3165c_7843_11e8_96c2_38c98616af18 th {\n",
       "          font-size: 15px;\n",
       "          text-align: center;\n",
       "          font-weight: bold;\n",
       "          color: #00c936;\n",
       "          background-color: ##f7f7f7;\n",
       "    }    #T_b1b3165c_7843_11e8_96c2_38c98616af18 td {\n",
       "          font-size: 15px;\n",
       "          font-weight: bold;\n",
       "    }</style>  \n",
       "<table id=\"T_b1b3165c_7843_11e8_96c2_38c98616af18\" > \n",
       "<thead>    <tr> \n",
       "        <th class=\"blank level0\" ></th> \n",
       "        <th class=\"col_heading level0 col0\" >email</th> \n",
       "        <th class=\"col_heading level0 col1\" >public_repos</th> \n",
       "        <th class=\"col_heading level0 col2\" >followers</th> \n",
       "        <th class=\"col_heading level0 col3\" >hireable</th> \n",
       "        <th class=\"col_heading level0 col4\" >company</th> \n",
       "        <th class=\"col_heading level0 col5\" >updated_at</th> \n",
       "    </tr></thead> \n",
       "<tbody>    <tr> \n",
       "        <th id=\"T_b1b3165c_7843_11e8_96c2_38c98616af18level0_row0\" class=\"row_heading level0 row0\" >space</th> \n",
       "        <td id=\"T_b1b3165c_7843_11e8_96c2_38c98616af18row0_col0\" class=\"data row0 col0\" >poke19962008@gmail.com</td> \n",
       "        <td id=\"T_b1b3165c_7843_11e8_96c2_38c98616af18row0_col1\" class=\"data row0 col1\" >38</td> \n",
       "        <td id=\"T_b1b3165c_7843_11e8_96c2_38c98616af18row0_col2\" class=\"data row0 col2\" >48</td> \n",
       "        <td id=\"T_b1b3165c_7843_11e8_96c2_38c98616af18row0_col3\" class=\"data row0 col3\" >True</td> \n",
       "        <td id=\"T_b1b3165c_7843_11e8_96c2_38c98616af18row0_col4\" class=\"data row0 col4\" >SRM University</td> \n",
       "        <td id=\"T_b1b3165c_7843_11e8_96c2_38c98616af18row0_col5\" class=\"data row0 col5\" >2018-06-19T04:16:23Z</td> \n",
       "    </tr></tbody> \n",
       "</table> "
      ],
      "text/plain": [
       "<pandas.io.formats.style.Styler at 0x111079908>"
      ]
     },
     "execution_count": 9,
     "metadata": {},
     "output_type": "execute_result"
    }
   ],
   "source": [
    "(df_new.style\n",
    "    .set_table_styles(styles))"
   ]
  },
  {
   "cell_type": "code",
   "execution_count": 10,
   "metadata": {},
   "outputs": [
    {
     "name": "stdout",
     "output_type": "stream",
     "text": [
      "Number of public repositores -  38\n",
      "Number of followers -  48\n",
      "Is candidate looking for job? -  True\n",
      "Company -  SRM University\n",
      "Last seen -  2018-06-19T04:16:23Z\n"
     ]
    }
   ],
   "source": [
    "#json.dumps(js, indent=4)\n",
    "\n",
    "# df['public_repos'] = js['public_repos']\n",
    "# #df['total_private_repos'] = js['total_private_repos']\n",
    "# df['followers'] = js['followers']\n",
    "# df['hireable'] = js['hireable']\n",
    "# df['company'] = js['company']\n",
    "# df['updated_at'] = js['updated_at']\n",
    "\n",
    "\n",
    "print(\"Number of public repositores - \", js['public_repos'])\n",
    "#print(\"Number of private repositores - \", js['total_private_repos'])\n",
    "print(\"Number of followers - \", js['followers'])\n",
    "print(\"Is candidate looking for job? - \", js['hireable'])\n",
    "print(\"Company - \", js['company'])\n",
    "print(\"Last seen - \", js['updated_at'])\n"
   ]
  },
  {
   "cell_type": "markdown",
   "metadata": {},
   "source": [
    "\n",
    "\n",
    "--------"
   ]
  },
  {
   "cell_type": "markdown",
   "metadata": {},
   "source": [
    "## 2. StackOverflow"
   ]
  },
  {
   "cell_type": "code",
   "execution_count": 11,
   "metadata": {},
   "outputs": [],
   "source": [
    "import stackexchange"
   ]
  },
  {
   "cell_type": "code",
   "execution_count": 12,
   "metadata": {},
   "outputs": [],
   "source": [
    "so = stackexchange.Site(stackexchange.StackOverflow)\n"
   ]
  },
  {
   "cell_type": "code",
   "execution_count": 13,
   "metadata": {},
   "outputs": [
    {
     "name": "stdout",
     "output_type": "stream",
     "text": [
      "reputation is 302\n",
      "no of questions answered -  14\n"
     ]
    }
   ],
   "source": [
    "u = so.user('1600172')\n",
    "print('reputation is' , u.reputation.format())\n",
    "print('no of questions answered - ', u.answers.count)"
   ]
  },
  {
   "cell_type": "code",
   "execution_count": 14,
   "metadata": {},
   "outputs": [],
   "source": [
    "df_new['stack_reputation'] = u.reputation.format()"
   ]
  },
  {
   "cell_type": "code",
   "execution_count": 15,
   "metadata": {},
   "outputs": [],
   "source": [
    "df_new['stack_answer_count'] = u.answers.count"
   ]
  },
  {
   "cell_type": "code",
   "execution_count": 16,
   "metadata": {},
   "outputs": [
    {
     "data": {
      "text/html": [
       "<style  type=\"text/css\" >\n",
       "    #T_e9b97dca_7843_11e8_b074_38c98616af18 th {\n",
       "          font-size: 15px;\n",
       "          text-align: center;\n",
       "          font-weight: bold;\n",
       "          color: #00c936;\n",
       "          background-color: ##f7f7f7;\n",
       "    }    #T_e9b97dca_7843_11e8_b074_38c98616af18 td {\n",
       "          font-size: 15px;\n",
       "          font-weight: bold;\n",
       "    }</style>  \n",
       "<table id=\"T_e9b97dca_7843_11e8_b074_38c98616af18\" > \n",
       "<thead>    <tr> \n",
       "        <th class=\"blank level0\" ></th> \n",
       "        <th class=\"col_heading level0 col0\" >email</th> \n",
       "        <th class=\"col_heading level0 col1\" >public_repos</th> \n",
       "        <th class=\"col_heading level0 col2\" >followers</th> \n",
       "        <th class=\"col_heading level0 col3\" >hireable</th> \n",
       "        <th class=\"col_heading level0 col4\" >company</th> \n",
       "        <th class=\"col_heading level0 col5\" >updated_at</th> \n",
       "        <th class=\"col_heading level0 col6\" >stack_reputation</th> \n",
       "        <th class=\"col_heading level0 col7\" >stack_answer_count</th> \n",
       "    </tr></thead> \n",
       "<tbody>    <tr> \n",
       "        <th id=\"T_e9b97dca_7843_11e8_b074_38c98616af18level0_row0\" class=\"row_heading level0 row0\" >space</th> \n",
       "        <td id=\"T_e9b97dca_7843_11e8_b074_38c98616af18row0_col0\" class=\"data row0 col0\" >poke19962008@gmail.com</td> \n",
       "        <td id=\"T_e9b97dca_7843_11e8_b074_38c98616af18row0_col1\" class=\"data row0 col1\" >38</td> \n",
       "        <td id=\"T_e9b97dca_7843_11e8_b074_38c98616af18row0_col2\" class=\"data row0 col2\" >48</td> \n",
       "        <td id=\"T_e9b97dca_7843_11e8_b074_38c98616af18row0_col3\" class=\"data row0 col3\" >True</td> \n",
       "        <td id=\"T_e9b97dca_7843_11e8_b074_38c98616af18row0_col4\" class=\"data row0 col4\" >SRM University</td> \n",
       "        <td id=\"T_e9b97dca_7843_11e8_b074_38c98616af18row0_col5\" class=\"data row0 col5\" >2018-06-19T04:16:23Z</td> \n",
       "        <td id=\"T_e9b97dca_7843_11e8_b074_38c98616af18row0_col6\" class=\"data row0 col6\" >302</td> \n",
       "        <td id=\"T_e9b97dca_7843_11e8_b074_38c98616af18row0_col7\" class=\"data row0 col7\" >14</td> \n",
       "    </tr></tbody> \n",
       "</table> "
      ],
      "text/plain": [
       "<pandas.io.formats.style.Styler at 0x114e0d320>"
      ]
     },
     "execution_count": 16,
     "metadata": {},
     "output_type": "execute_result"
    }
   ],
   "source": [
    "df_new.set_index('email')\n",
    "(df_new.style\n",
    "    .set_table_styles(styles))\n"
   ]
  },
  {
   "cell_type": "markdown",
   "metadata": {},
   "source": [
    "--------"
   ]
  },
  {
   "cell_type": "markdown",
   "metadata": {},
   "source": [
    "## 3. CodeChef"
   ]
  },
  {
   "cell_type": "code",
   "execution_count": 17,
   "metadata": {},
   "outputs": [],
   "source": [
    "import requests\n",
    "from bs4 import BeautifulSoup"
   ]
  },
  {
   "cell_type": "code",
   "execution_count": 18,
   "metadata": {},
   "outputs": [],
   "source": [
    "head = \"https://wwww.codechef.com/users/\"\n",
    "var = user\n",
    "URL = head + user\n",
    "page  = requests.get(URL)\n",
    "soup = BeautifulSoup(page.content,'html.parser')"
   ]
  },
  {
   "cell_type": "code",
   "execution_count": 19,
   "metadata": {},
   "outputs": [
    {
     "name": "stdout",
     "output_type": "stream",
     "text": [
      "Rating: 1692\n"
     ]
    }
   ],
   "source": [
    "\n",
    "#These three lines give the Rating of the user.\n",
    "listRating = list(soup.findAll('div',class_=\"rating-number\"))\n",
    "rating = list(listRating[0].children)\n",
    "rating = rating[0]\n",
    "print (\"Rating: \"+rating)\n",
    "df_new['CodeChef_rating'] = rating"
   ]
  },
  {
   "cell_type": "code",
   "execution_count": 20,
   "metadata": {},
   "outputs": [
    {
     "name": "stdout",
     "output_type": "stream",
     "text": [
      "Global Ranking: 12621\n",
      "Country Ranking: 8992\n"
     ]
    }
   ],
   "source": [
    "\n",
    "listGCR = []  #Global and country ranking.\n",
    "listRanking = list(soup.findAll('div',class_=\"rating-ranks\"))\n",
    "rankingSoup = listRanking[0] \n",
    "for item in rankingSoup.findAll('a'):\n",
    "\tlistGCR.append(item.get_text()) #Extracting the text from all anchor tags\n",
    "print (\"Global Ranking: \"+listGCR[0])\n",
    "df_new['CodeChef_global_rank'] = listGCR[0]\n",
    "print (\"Country Ranking: \"+listGCR[1])\n",
    "df_new['CodeChef_Country_rank'] = listGCR[1]\n"
   ]
  },
  {
   "cell_type": "code",
   "execution_count": 21,
   "metadata": {},
   "outputs": [
    {
     "data": {
      "text/html": [
       "<style  type=\"text/css\" >\n",
       "    #T_ec757b68_7843_11e8_b4b0_38c98616af18 th {\n",
       "          font-size: 15px;\n",
       "          text-align: center;\n",
       "          font-weight: bold;\n",
       "          color: #00c936;\n",
       "          background-color: ##f7f7f7;\n",
       "    }    #T_ec757b68_7843_11e8_b4b0_38c98616af18 td {\n",
       "          font-size: 15px;\n",
       "          font-weight: bold;\n",
       "    }</style>  \n",
       "<table id=\"T_ec757b68_7843_11e8_b4b0_38c98616af18\" > \n",
       "<thead>    <tr> \n",
       "        <th class=\"blank level0\" ></th> \n",
       "        <th class=\"col_heading level0 col0\" >email</th> \n",
       "        <th class=\"col_heading level0 col1\" >public_repos</th> \n",
       "        <th class=\"col_heading level0 col2\" >followers</th> \n",
       "        <th class=\"col_heading level0 col3\" >hireable</th> \n",
       "        <th class=\"col_heading level0 col4\" >company</th> \n",
       "        <th class=\"col_heading level0 col5\" >updated_at</th> \n",
       "        <th class=\"col_heading level0 col6\" >stack_reputation</th> \n",
       "        <th class=\"col_heading level0 col7\" >stack_answer_count</th> \n",
       "        <th class=\"col_heading level0 col8\" >CodeChef_rating</th> \n",
       "        <th class=\"col_heading level0 col9\" >CodeChef_global_rank</th> \n",
       "        <th class=\"col_heading level0 col10\" >CodeChef_Country_rank</th> \n",
       "    </tr></thead> \n",
       "<tbody>    <tr> \n",
       "        <th id=\"T_ec757b68_7843_11e8_b4b0_38c98616af18level0_row0\" class=\"row_heading level0 row0\" >space</th> \n",
       "        <td id=\"T_ec757b68_7843_11e8_b4b0_38c98616af18row0_col0\" class=\"data row0 col0\" >poke19962008@gmail.com</td> \n",
       "        <td id=\"T_ec757b68_7843_11e8_b4b0_38c98616af18row0_col1\" class=\"data row0 col1\" >38</td> \n",
       "        <td id=\"T_ec757b68_7843_11e8_b4b0_38c98616af18row0_col2\" class=\"data row0 col2\" >48</td> \n",
       "        <td id=\"T_ec757b68_7843_11e8_b4b0_38c98616af18row0_col3\" class=\"data row0 col3\" >True</td> \n",
       "        <td id=\"T_ec757b68_7843_11e8_b4b0_38c98616af18row0_col4\" class=\"data row0 col4\" >SRM University</td> \n",
       "        <td id=\"T_ec757b68_7843_11e8_b4b0_38c98616af18row0_col5\" class=\"data row0 col5\" >2018-06-19T04:16:23Z</td> \n",
       "        <td id=\"T_ec757b68_7843_11e8_b4b0_38c98616af18row0_col6\" class=\"data row0 col6\" >302</td> \n",
       "        <td id=\"T_ec757b68_7843_11e8_b4b0_38c98616af18row0_col7\" class=\"data row0 col7\" >14</td> \n",
       "        <td id=\"T_ec757b68_7843_11e8_b4b0_38c98616af18row0_col8\" class=\"data row0 col8\" >1692</td> \n",
       "        <td id=\"T_ec757b68_7843_11e8_b4b0_38c98616af18row0_col9\" class=\"data row0 col9\" >12621</td> \n",
       "        <td id=\"T_ec757b68_7843_11e8_b4b0_38c98616af18row0_col10\" class=\"data row0 col10\" >8992</td> \n",
       "    </tr></tbody> \n",
       "</table> "
      ],
      "text/plain": [
       "<pandas.io.formats.style.Styler at 0x114ef3390>"
      ]
     },
     "execution_count": 21,
     "metadata": {},
     "output_type": "execute_result"
    }
   ],
   "source": [
    "(df_new.style\n",
    "    .set_table_styles(styles))"
   ]
  },
  {
   "cell_type": "markdown",
   "metadata": {},
   "source": [
    "--------"
   ]
  },
  {
   "cell_type": "markdown",
   "metadata": {},
   "source": [
    "## 4. Spoj"
   ]
  },
  {
   "cell_type": "code",
   "execution_count": 22,
   "metadata": {},
   "outputs": [
    {
     "name": "stdout",
     "output_type": "stream",
     "text": [
      " India, Chennai\n",
      " Joined Aug 2014\n",
      " World Rank: #65457 (0 points)\n",
      " Institution: SRM University kattankulathur\n",
      "B.Tech sophomore in Computer Science and Engineering at SRM University. I am particularly interested in Algorithms, Data Structures, Data Science and Web Development and looking for any projects or avenues that can help me learn new things in these subjects. I am a keen learner and always up for a challenge.\n",
      "\n",
      "About | Tutorial | Tools | Clusters | Credits | API | Widgets\n",
      "Legal: \n",
      "\t\t\t\t\t   Terms of Service | Privacy Policy | GDPR Info\n",
      "\n",
      " no. of questions =  4\n"
     ]
    }
   ],
   "source": [
    "import requests\n",
    "import bs4 as bs\n",
    "\n",
    "#url = input('enter spoj profile url - ')\n",
    "url = 'https://www.spoj.com/users/poke19962008/'\n",
    "sauce = urllib.request.urlopen(url).read()    \n",
    "soup = bs.BeautifulSoup(sauce,'lxml')     # lxml is a parser\n",
    "#print(soup)\n",
    "\n",
    "info = (soup.find_all('p'))\n",
    "for i in info:\n",
    "    print(i.text)\n",
    "\n",
    "no_of_questions = int(soup.find('dd').text)\n",
    "print(\" no. of questions = \",no_of_questions)\n",
    "df_new['SPOJ_no_of_ques'] = no_of_questions\n"
   ]
  },
  {
   "cell_type": "code",
   "execution_count": 23,
   "metadata": {},
   "outputs": [
    {
     "data": {
      "text/html": [
       "<style  type=\"text/css\" >\n",
       "    #T_ed38ebac_7843_11e8_a8d0_38c98616af18 th {\n",
       "          font-size: 15px;\n",
       "          text-align: center;\n",
       "          font-weight: bold;\n",
       "          color: #00c936;\n",
       "          background-color: ##f7f7f7;\n",
       "    }    #T_ed38ebac_7843_11e8_a8d0_38c98616af18 td {\n",
       "          font-size: 15px;\n",
       "          font-weight: bold;\n",
       "    }</style>  \n",
       "<table id=\"T_ed38ebac_7843_11e8_a8d0_38c98616af18\" > \n",
       "<thead>    <tr> \n",
       "        <th class=\"blank level0\" ></th> \n",
       "        <th class=\"col_heading level0 col0\" >email</th> \n",
       "        <th class=\"col_heading level0 col1\" >public_repos</th> \n",
       "        <th class=\"col_heading level0 col2\" >followers</th> \n",
       "        <th class=\"col_heading level0 col3\" >hireable</th> \n",
       "        <th class=\"col_heading level0 col4\" >company</th> \n",
       "        <th class=\"col_heading level0 col5\" >updated_at</th> \n",
       "        <th class=\"col_heading level0 col6\" >stack_reputation</th> \n",
       "        <th class=\"col_heading level0 col7\" >stack_answer_count</th> \n",
       "        <th class=\"col_heading level0 col8\" >CodeChef_rating</th> \n",
       "        <th class=\"col_heading level0 col9\" >CodeChef_global_rank</th> \n",
       "        <th class=\"col_heading level0 col10\" >CodeChef_Country_rank</th> \n",
       "        <th class=\"col_heading level0 col11\" >SPOJ_no_of_ques</th> \n",
       "    </tr></thead> \n",
       "<tbody>    <tr> \n",
       "        <th id=\"T_ed38ebac_7843_11e8_a8d0_38c98616af18level0_row0\" class=\"row_heading level0 row0\" >space</th> \n",
       "        <td id=\"T_ed38ebac_7843_11e8_a8d0_38c98616af18row0_col0\" class=\"data row0 col0\" >poke19962008@gmail.com</td> \n",
       "        <td id=\"T_ed38ebac_7843_11e8_a8d0_38c98616af18row0_col1\" class=\"data row0 col1\" >38</td> \n",
       "        <td id=\"T_ed38ebac_7843_11e8_a8d0_38c98616af18row0_col2\" class=\"data row0 col2\" >48</td> \n",
       "        <td id=\"T_ed38ebac_7843_11e8_a8d0_38c98616af18row0_col3\" class=\"data row0 col3\" >True</td> \n",
       "        <td id=\"T_ed38ebac_7843_11e8_a8d0_38c98616af18row0_col4\" class=\"data row0 col4\" >SRM University</td> \n",
       "        <td id=\"T_ed38ebac_7843_11e8_a8d0_38c98616af18row0_col5\" class=\"data row0 col5\" >2018-06-19T04:16:23Z</td> \n",
       "        <td id=\"T_ed38ebac_7843_11e8_a8d0_38c98616af18row0_col6\" class=\"data row0 col6\" >302</td> \n",
       "        <td id=\"T_ed38ebac_7843_11e8_a8d0_38c98616af18row0_col7\" class=\"data row0 col7\" >14</td> \n",
       "        <td id=\"T_ed38ebac_7843_11e8_a8d0_38c98616af18row0_col8\" class=\"data row0 col8\" >1692</td> \n",
       "        <td id=\"T_ed38ebac_7843_11e8_a8d0_38c98616af18row0_col9\" class=\"data row0 col9\" >12621</td> \n",
       "        <td id=\"T_ed38ebac_7843_11e8_a8d0_38c98616af18row0_col10\" class=\"data row0 col10\" >8992</td> \n",
       "        <td id=\"T_ed38ebac_7843_11e8_a8d0_38c98616af18row0_col11\" class=\"data row0 col11\" >4</td> \n",
       "    </tr></tbody> \n",
       "</table> "
      ],
      "text/plain": [
       "<pandas.io.formats.style.Styler at 0x114e0df98>"
      ]
     },
     "execution_count": 23,
     "metadata": {},
     "output_type": "execute_result"
    }
   ],
   "source": [
    "(df_new.style\n",
    "    .set_table_styles(styles))"
   ]
  },
  {
   "cell_type": "markdown",
   "metadata": {},
   "source": [
    "## 5. Codebuddy"
   ]
  },
  {
   "cell_type": "code",
   "execution_count": 24,
   "metadata": {},
   "outputs": [],
   "source": [
    "import requests\n",
    "from bs4 import BeautifulSoup\n",
    "\n",
    "def codebuddy(username):\n",
    "    URL = \"https://codebuddy.co.in/ranks/practice\"\n",
    "    page  = requests.get(URL)\n",
    "    soup = BeautifulSoup(page.content,'html.parser')\n",
    "    table = list(soup.find_all('tr'))\n",
    "    for i in table:\n",
    "        parameters = list(i.find_all('label'))\n",
    "        #print (i.find('label',class_=\"highlight\").text)\n",
    "        if str(parameters[1].text)==username:\n",
    "            output = str(int(parameters[0].text))+\" \"+str(int(parameters[2].text))+\" \"+str(float(parameters[3].text))\n",
    "            return (output)\n",
    "    return (-1)\n",
    "#ranking out of 2000"
   ]
  },
  {
   "cell_type": "code",
   "execution_count": 25,
   "metadata": {},
   "outputs": [],
   "source": [
    "a = codebuddy(\"spectrum\").split(\" \")\n",
    "a = pd.DataFrame(a)\n",
    "a = a.transpose()"
   ]
  },
  {
   "cell_type": "code",
   "execution_count": 26,
   "metadata": {},
   "outputs": [
    {
     "data": {
      "text/html": [
       "<style  type=\"text/css\" >\n",
       "    #T_ee3bb662_7843_11e8_b36c_38c98616af18 th {\n",
       "          font-size: 15px;\n",
       "          text-align: center;\n",
       "          font-weight: bold;\n",
       "          color: #00c936;\n",
       "          background-color: ##f7f7f7;\n",
       "    }    #T_ee3bb662_7843_11e8_b36c_38c98616af18 td {\n",
       "          font-size: 15px;\n",
       "          font-weight: bold;\n",
       "    }</style>  \n",
       "<table id=\"T_ee3bb662_7843_11e8_b36c_38c98616af18\" > \n",
       "<thead>    <tr> \n",
       "        <th class=\"blank level0\" ></th> \n",
       "        <th class=\"col_heading level0 col0\" >email</th> \n",
       "        <th class=\"col_heading level0 col1\" >public_repos</th> \n",
       "        <th class=\"col_heading level0 col2\" >followers</th> \n",
       "        <th class=\"col_heading level0 col3\" >hireable</th> \n",
       "        <th class=\"col_heading level0 col4\" >company</th> \n",
       "        <th class=\"col_heading level0 col5\" >updated_at</th> \n",
       "        <th class=\"col_heading level0 col6\" >stack_reputation</th> \n",
       "        <th class=\"col_heading level0 col7\" >stack_answer_count</th> \n",
       "        <th class=\"col_heading level0 col8\" >CodeChef_rating</th> \n",
       "        <th class=\"col_heading level0 col9\" >CodeChef_global_rank</th> \n",
       "        <th class=\"col_heading level0 col10\" >CodeChef_Country_rank</th> \n",
       "        <th class=\"col_heading level0 col11\" >SPOJ_no_of_ques</th> \n",
       "        <th class=\"col_heading level0 col12\" >Codebuddy_rank</th> \n",
       "        <th class=\"col_heading level0 col13\" >Codebuddy_problem_solved</th> \n",
       "        <th class=\"col_heading level0 col14\" >Codebuddy_points</th> \n",
       "    </tr></thead> \n",
       "<tbody>    <tr> \n",
       "        <th id=\"T_ee3bb662_7843_11e8_b36c_38c98616af18level0_row0\" class=\"row_heading level0 row0\" >space</th> \n",
       "        <td id=\"T_ee3bb662_7843_11e8_b36c_38c98616af18row0_col0\" class=\"data row0 col0\" >poke19962008@gmail.com</td> \n",
       "        <td id=\"T_ee3bb662_7843_11e8_b36c_38c98616af18row0_col1\" class=\"data row0 col1\" >38</td> \n",
       "        <td id=\"T_ee3bb662_7843_11e8_b36c_38c98616af18row0_col2\" class=\"data row0 col2\" >48</td> \n",
       "        <td id=\"T_ee3bb662_7843_11e8_b36c_38c98616af18row0_col3\" class=\"data row0 col3\" >True</td> \n",
       "        <td id=\"T_ee3bb662_7843_11e8_b36c_38c98616af18row0_col4\" class=\"data row0 col4\" >SRM University</td> \n",
       "        <td id=\"T_ee3bb662_7843_11e8_b36c_38c98616af18row0_col5\" class=\"data row0 col5\" >2018-06-19T04:16:23Z</td> \n",
       "        <td id=\"T_ee3bb662_7843_11e8_b36c_38c98616af18row0_col6\" class=\"data row0 col6\" >302</td> \n",
       "        <td id=\"T_ee3bb662_7843_11e8_b36c_38c98616af18row0_col7\" class=\"data row0 col7\" >14</td> \n",
       "        <td id=\"T_ee3bb662_7843_11e8_b36c_38c98616af18row0_col8\" class=\"data row0 col8\" >1692</td> \n",
       "        <td id=\"T_ee3bb662_7843_11e8_b36c_38c98616af18row0_col9\" class=\"data row0 col9\" >12621</td> \n",
       "        <td id=\"T_ee3bb662_7843_11e8_b36c_38c98616af18row0_col10\" class=\"data row0 col10\" >8992</td> \n",
       "        <td id=\"T_ee3bb662_7843_11e8_b36c_38c98616af18row0_col11\" class=\"data row0 col11\" >4</td> \n",
       "        <td id=\"T_ee3bb662_7843_11e8_b36c_38c98616af18row0_col12\" class=\"data row0 col12\" >5</td> \n",
       "        <td id=\"T_ee3bb662_7843_11e8_b36c_38c98616af18row0_col13\" class=\"data row0 col13\" >161</td> \n",
       "        <td id=\"T_ee3bb662_7843_11e8_b36c_38c98616af18row0_col14\" class=\"data row0 col14\" >102.44</td> \n",
       "    </tr></tbody> \n",
       "</table> "
      ],
      "text/plain": [
       "<pandas.io.formats.style.Styler at 0x115887cc0>"
      ]
     },
     "execution_count": 26,
     "metadata": {},
     "output_type": "execute_result"
    }
   ],
   "source": [
    "df_new['Codebuddy_rank'] = a[0].values\n",
    "df_new['Codebuddy_problem_solved'] = a[1].values\n",
    "df_new['Codebuddy_points'] = a[2].values\n",
    "(df_new.style\n",
    "    .set_table_styles(styles))\n"
   ]
  },
  {
   "cell_type": "markdown",
   "metadata": {},
   "source": [
    "-------"
   ]
  },
  {
   "cell_type": "markdown",
   "metadata": {},
   "source": [
    "## 6. Hackerearth"
   ]
  },
  {
   "cell_type": "code",
   "execution_count": 27,
   "metadata": {},
   "outputs": [
    {
     "name": "stdout",
     "output_type": "stream",
     "text": [
      "None\n",
      "No. of followers =  None\n",
      "No. of following =  None\n"
     ]
    }
   ],
   "source": [
    "import bs4 as bs\n",
    "import urllib.request\n",
    "\n",
    "#url = input('enter hackerearth profile url - ')\n",
    "url = 'https://www.hackerearth.com/@poke19962008'\n",
    "sauce = urllib.request.urlopen(url).read()    \n",
    "soup = bs.BeautifulSoup(sauce,'lxml')     # lxml is a parser\n",
    "#print(soup)\n",
    "\n",
    "name = soup.find('h1', class_=\"name ellipsis larger\")\n",
    "print(name)\n",
    "\n",
    "followersNo = soup.find('span', class_=\"track-followers-num\")\n",
    "followingNo = soup.find('span', class_=\"track-following-num\")\n",
    "print(\"No. of followers = \",followersNo)\n",
    "print(\"No. of following = \",followingNo)\n",
    "\n"
   ]
  },
  {
   "cell_type": "markdown",
   "metadata": {},
   "source": [
    "-------"
   ]
  },
  {
   "cell_type": "markdown",
   "metadata": {},
   "source": [
    "## 7. CodeForces"
   ]
  },
  {
   "cell_type": "code",
   "execution_count": 28,
   "metadata": {},
   "outputs": [],
   "source": [
    "def codeforces(username):\n",
    "    head = 'http://codeforces.com/profile/'\n",
    "    var = username\n",
    "    URL = head + var\n",
    "    page = requests.get(URL)\n",
    "    soup = BeautifulSoup(page.content,'html.parser')\n",
    "\n",
    "    listRating = list(soup.findAll('div',class_=\"user-rank\"))\n",
    "    CheckRating = listRating[0].get_text()  #Check for rated or unrated\n",
    "    if str(CheckRating) == '\\nUnrated \\n':\n",
    "        # print('Not rated')\n",
    "        out = 1000000\n",
    "        return(out)\n",
    "    else:\n",
    "    # print('rated')\n",
    "        listinfo = list((soup.find('div',class_=\"info\")).findAll('li'))\n",
    "        string = (listinfo[0].get_text())\n",
    "        string = string.replace(\" \",\"\")\n",
    "        str1,str2 = string.split('(')   \n",
    "        str3,str4 = str1.split(':') \n",
    "        out = int((str4.strip()))\n",
    "        return(out)\n"
   ]
  },
  {
   "cell_type": "code",
   "execution_count": 29,
   "metadata": {},
   "outputs": [
    {
     "data": {
      "text/html": [
       "<style  type=\"text/css\" >\n",
       "    #T_ef2640cc_7843_11e8_9c2a_38c98616af18 th {\n",
       "          font-size: 15px;\n",
       "          text-align: center;\n",
       "          font-weight: bold;\n",
       "          color: #00c936;\n",
       "          background-color: ##f7f7f7;\n",
       "    }    #T_ef2640cc_7843_11e8_9c2a_38c98616af18 td {\n",
       "          font-size: 15px;\n",
       "          font-weight: bold;\n",
       "    }</style>  \n",
       "<table id=\"T_ef2640cc_7843_11e8_9c2a_38c98616af18\" > \n",
       "<thead>    <tr> \n",
       "        <th class=\"blank level0\" ></th> \n",
       "        <th class=\"col_heading level0 col0\" >email</th> \n",
       "        <th class=\"col_heading level0 col1\" >public_repos</th> \n",
       "        <th class=\"col_heading level0 col2\" >followers</th> \n",
       "        <th class=\"col_heading level0 col3\" >hireable</th> \n",
       "        <th class=\"col_heading level0 col4\" >company</th> \n",
       "        <th class=\"col_heading level0 col5\" >updated_at</th> \n",
       "        <th class=\"col_heading level0 col6\" >stack_reputation</th> \n",
       "        <th class=\"col_heading level0 col7\" >stack_answer_count</th> \n",
       "        <th class=\"col_heading level0 col8\" >CodeChef_rating</th> \n",
       "        <th class=\"col_heading level0 col9\" >CodeChef_global_rank</th> \n",
       "        <th class=\"col_heading level0 col10\" >CodeChef_Country_rank</th> \n",
       "        <th class=\"col_heading level0 col11\" >SPOJ_no_of_ques</th> \n",
       "        <th class=\"col_heading level0 col12\" >Codebuddy_rank</th> \n",
       "        <th class=\"col_heading level0 col13\" >Codebuddy_problem_solved</th> \n",
       "        <th class=\"col_heading level0 col14\" >Codebuddy_points</th> \n",
       "        <th class=\"col_heading level0 col15\" >CodeForce_ranking</th> \n",
       "    </tr></thead> \n",
       "<tbody>    <tr> \n",
       "        <th id=\"T_ef2640cc_7843_11e8_9c2a_38c98616af18level0_row0\" class=\"row_heading level0 row0\" >space</th> \n",
       "        <td id=\"T_ef2640cc_7843_11e8_9c2a_38c98616af18row0_col0\" class=\"data row0 col0\" >poke19962008@gmail.com</td> \n",
       "        <td id=\"T_ef2640cc_7843_11e8_9c2a_38c98616af18row0_col1\" class=\"data row0 col1\" >38</td> \n",
       "        <td id=\"T_ef2640cc_7843_11e8_9c2a_38c98616af18row0_col2\" class=\"data row0 col2\" >48</td> \n",
       "        <td id=\"T_ef2640cc_7843_11e8_9c2a_38c98616af18row0_col3\" class=\"data row0 col3\" >True</td> \n",
       "        <td id=\"T_ef2640cc_7843_11e8_9c2a_38c98616af18row0_col4\" class=\"data row0 col4\" >SRM University</td> \n",
       "        <td id=\"T_ef2640cc_7843_11e8_9c2a_38c98616af18row0_col5\" class=\"data row0 col5\" >2018-06-19T04:16:23Z</td> \n",
       "        <td id=\"T_ef2640cc_7843_11e8_9c2a_38c98616af18row0_col6\" class=\"data row0 col6\" >302</td> \n",
       "        <td id=\"T_ef2640cc_7843_11e8_9c2a_38c98616af18row0_col7\" class=\"data row0 col7\" >14</td> \n",
       "        <td id=\"T_ef2640cc_7843_11e8_9c2a_38c98616af18row0_col8\" class=\"data row0 col8\" >1692</td> \n",
       "        <td id=\"T_ef2640cc_7843_11e8_9c2a_38c98616af18row0_col9\" class=\"data row0 col9\" >12621</td> \n",
       "        <td id=\"T_ef2640cc_7843_11e8_9c2a_38c98616af18row0_col10\" class=\"data row0 col10\" >8992</td> \n",
       "        <td id=\"T_ef2640cc_7843_11e8_9c2a_38c98616af18row0_col11\" class=\"data row0 col11\" >4</td> \n",
       "        <td id=\"T_ef2640cc_7843_11e8_9c2a_38c98616af18row0_col12\" class=\"data row0 col12\" >5</td> \n",
       "        <td id=\"T_ef2640cc_7843_11e8_9c2a_38c98616af18row0_col13\" class=\"data row0 col13\" >161</td> \n",
       "        <td id=\"T_ef2640cc_7843_11e8_9c2a_38c98616af18row0_col14\" class=\"data row0 col14\" >102.44</td> \n",
       "        <td id=\"T_ef2640cc_7843_11e8_9c2a_38c98616af18row0_col15\" class=\"data row0 col15\" >1606</td> \n",
       "    </tr></tbody> \n",
       "</table> "
      ],
      "text/plain": [
       "<pandas.io.formats.style.Styler at 0x1158d9978>"
      ]
     },
     "execution_count": 29,
     "metadata": {},
     "output_type": "execute_result"
    }
   ],
   "source": [
    "df_new['CodeForce_ranking'] = codeforces('user')\n",
    "(df_new.style\n",
    "    .set_table_styles(styles))"
   ]
  },
  {
   "cell_type": "markdown",
   "metadata": {},
   "source": [
    "-------"
   ]
  },
  {
   "cell_type": "markdown",
   "metadata": {},
   "source": [
    "## 8. Git-Awards Ranking"
   ]
  },
  {
   "cell_type": "code",
   "execution_count": 30,
   "metadata": {},
   "outputs": [
    {
     "name": "stdout",
     "output_type": "stream",
     "text": [
      "['python', 'javascript', 'css', 'swift', 'c++', 'shell', 'objective-c', 'c']\n"
     ]
    },
    {
     "data": {
      "text/html": [
       "<style  type=\"text/css\" >\n",
       "    #T_efb437c6_7843_11e8_ae00_38c98616af18 th {\n",
       "          font-size: 15px;\n",
       "          text-align: center;\n",
       "          font-weight: bold;\n",
       "          color: #00c936;\n",
       "          background-color: ##f7f7f7;\n",
       "    }    #T_efb437c6_7843_11e8_ae00_38c98616af18 td {\n",
       "          font-size: 15px;\n",
       "          font-weight: bold;\n",
       "    }</style>  \n",
       "<table id=\"T_efb437c6_7843_11e8_ae00_38c98616af18\" > \n",
       "<thead>    <tr> \n",
       "        <th class=\"blank level0\" ></th> \n",
       "        <th class=\"col_heading level0 col0\" >email</th> \n",
       "        <th class=\"col_heading level0 col1\" >public_repos</th> \n",
       "        <th class=\"col_heading level0 col2\" >followers</th> \n",
       "        <th class=\"col_heading level0 col3\" >hireable</th> \n",
       "        <th class=\"col_heading level0 col4\" >company</th> \n",
       "        <th class=\"col_heading level0 col5\" >updated_at</th> \n",
       "        <th class=\"col_heading level0 col6\" >stack_reputation</th> \n",
       "        <th class=\"col_heading level0 col7\" >stack_answer_count</th> \n",
       "        <th class=\"col_heading level0 col8\" >CodeChef_rating</th> \n",
       "        <th class=\"col_heading level0 col9\" >CodeChef_global_rank</th> \n",
       "        <th class=\"col_heading level0 col10\" >CodeChef_Country_rank</th> \n",
       "        <th class=\"col_heading level0 col11\" >SPOJ_no_of_ques</th> \n",
       "        <th class=\"col_heading level0 col12\" >Codebuddy_rank</th> \n",
       "        <th class=\"col_heading level0 col13\" >Codebuddy_problem_solved</th> \n",
       "        <th class=\"col_heading level0 col14\" >Codebuddy_points</th> \n",
       "        <th class=\"col_heading level0 col15\" >CodeForce_ranking</th> \n",
       "        <th class=\"col_heading level0 col16\" >lang_1</th> \n",
       "        <th class=\"col_heading level0 col17\" >lang_2</th> \n",
       "        <th class=\"col_heading level0 col18\" >lang_3</th> \n",
       "        <th class=\"col_heading level0 col19\" >lang_4</th> \n",
       "    </tr></thead> \n",
       "<tbody>    <tr> \n",
       "        <th id=\"T_efb437c6_7843_11e8_ae00_38c98616af18level0_row0\" class=\"row_heading level0 row0\" >space</th> \n",
       "        <td id=\"T_efb437c6_7843_11e8_ae00_38c98616af18row0_col0\" class=\"data row0 col0\" >poke19962008@gmail.com</td> \n",
       "        <td id=\"T_efb437c6_7843_11e8_ae00_38c98616af18row0_col1\" class=\"data row0 col1\" >38</td> \n",
       "        <td id=\"T_efb437c6_7843_11e8_ae00_38c98616af18row0_col2\" class=\"data row0 col2\" >48</td> \n",
       "        <td id=\"T_efb437c6_7843_11e8_ae00_38c98616af18row0_col3\" class=\"data row0 col3\" >True</td> \n",
       "        <td id=\"T_efb437c6_7843_11e8_ae00_38c98616af18row0_col4\" class=\"data row0 col4\" >SRM University</td> \n",
       "        <td id=\"T_efb437c6_7843_11e8_ae00_38c98616af18row0_col5\" class=\"data row0 col5\" >2018-06-19T04:16:23Z</td> \n",
       "        <td id=\"T_efb437c6_7843_11e8_ae00_38c98616af18row0_col6\" class=\"data row0 col6\" >302</td> \n",
       "        <td id=\"T_efb437c6_7843_11e8_ae00_38c98616af18row0_col7\" class=\"data row0 col7\" >14</td> \n",
       "        <td id=\"T_efb437c6_7843_11e8_ae00_38c98616af18row0_col8\" class=\"data row0 col8\" >1692</td> \n",
       "        <td id=\"T_efb437c6_7843_11e8_ae00_38c98616af18row0_col9\" class=\"data row0 col9\" >12621</td> \n",
       "        <td id=\"T_efb437c6_7843_11e8_ae00_38c98616af18row0_col10\" class=\"data row0 col10\" >8992</td> \n",
       "        <td id=\"T_efb437c6_7843_11e8_ae00_38c98616af18row0_col11\" class=\"data row0 col11\" >4</td> \n",
       "        <td id=\"T_efb437c6_7843_11e8_ae00_38c98616af18row0_col12\" class=\"data row0 col12\" >5</td> \n",
       "        <td id=\"T_efb437c6_7843_11e8_ae00_38c98616af18row0_col13\" class=\"data row0 col13\" >161</td> \n",
       "        <td id=\"T_efb437c6_7843_11e8_ae00_38c98616af18row0_col14\" class=\"data row0 col14\" >102.44</td> \n",
       "        <td id=\"T_efb437c6_7843_11e8_ae00_38c98616af18row0_col15\" class=\"data row0 col15\" >1606</td> \n",
       "        <td id=\"T_efb437c6_7843_11e8_ae00_38c98616af18row0_col16\" class=\"data row0 col16\" >python</td> \n",
       "        <td id=\"T_efb437c6_7843_11e8_ae00_38c98616af18row0_col17\" class=\"data row0 col17\" >javascript</td> \n",
       "        <td id=\"T_efb437c6_7843_11e8_ae00_38c98616af18row0_col18\" class=\"data row0 col18\" >css</td> \n",
       "        <td id=\"T_efb437c6_7843_11e8_ae00_38c98616af18row0_col19\" class=\"data row0 col19\" >swift</td> \n",
       "    </tr></tbody> \n",
       "</table> "
      ],
      "text/plain": [
       "<pandas.io.formats.style.Styler at 0x1169bd978>"
      ]
     },
     "execution_count": 30,
     "metadata": {},
     "output_type": "execute_result"
    }
   ],
   "source": [
    "import requests\n",
    "from bs4 import BeautifulSoup\n",
    "import re\n",
    "\n",
    "head = \"http://git-awards.com/users/\"\n",
    "var = user\n",
    "URL = head + var\n",
    "\n",
    "page  = requests.get(URL)\n",
    "soup = BeautifulSoup(page.content,'html.parser')\n",
    "a = list(soup.findAll('div',class_='col-md-3 info'))\n",
    "b = list(soup.findAll('td'))\n",
    "lang=[]\n",
    "f = 0\n",
    "for i in a:\n",
    "    c = i.text.lstrip().rstrip()\n",
    "    if 'your ranking' in c and f==0:\n",
    "        f=1\n",
    "        continue\n",
    "    if 'ranking' in c:\n",
    "        s=\"\"\n",
    "        d = c.split(\" \")\n",
    "        for j in d:\n",
    "            if j!=\"ranking\":\n",
    "                s+=j+\" \"\n",
    "        lang.append(s.rstrip())\n",
    "        \n",
    "print(lang)\n",
    "df_new['lang_1'] = lang[0]\n",
    "df_new['lang_2'] = lang[1]\n",
    "df_new['lang_3'] = lang[2]\n",
    "df_new['lang_4'] = lang[3]\n",
    "(df_new.style\n",
    "    .set_table_styles(styles))"
   ]
  },
  {
   "cell_type": "markdown",
   "metadata": {},
   "source": [
    "(If you want to know about their work)"
   ]
  },
  {
   "cell_type": "code",
   "execution_count": 31,
   "metadata": {},
   "outputs": [
    {
     "name": "stdout",
     "output_type": "stream",
     "text": [
      "Loading...\n",
      "\n",
      "No. of repositories =  38\n",
      "\n",
      "1.  Competitive-Coding\n",
      "2.  Machine-Learning-Projects\n",
      "3.  Resume\n",
      "4.  Quote-Attribution\n",
      "5.  a2o\n",
      "6.  Today-Attendance\n",
      "7.  Mash-Up\n",
      "8.  Teacher-Stats\n",
      "9.  Source-Code-Classifier\n",
      "10.  Data-structures\n",
      "11.  learn\n",
      "12.  awesomesource\n",
      "13.  My-Website\n",
      "14.  Moeditor\n",
      "15.  NEXTed\n",
      "16.  Zoho-SmartAnswer\n",
      "17.  DBpediaSpotlight.js\n",
      "18.  dbpedia-spotlight\n",
      "19.  SpellChecker\n",
      "20.  uTServer\n",
      "21.  Minutes-Of-Meeting\n",
      "22.  CC-Rank-Notifier\n",
      "23.  notie.js\n",
      "24.  TalHat\n",
      "25.  CS1005-Mini-Poject\n",
      "26.  chain-reaction\n",
      "27.  HackIndia-2015\n",
      "28.  SudoCrawler2015\n",
      "29.  MacGoalNotification\n",
      "30.  PageRanking\n",
      "31.  Metric-Converter-Module\n",
      "32.  Proxy-Finder\n",
      "33.  Image-Search\n",
      "34.  Python-Crawlers\n",
      "35.  iCamel\n",
      "36.  NyanCat-iOS-Swift-\n",
      "37.  Calculator-iOS\n",
      "38.  CWC-15Stats\n"
     ]
    }
   ],
   "source": [
    "#username = input('enter github username - ')\n",
    "username = user\n",
    "print(\"Loading...\")\n",
    "print()\n",
    "url = \"https://github.com/\"+username\n",
    "sauce = urllib.request.urlopen(url).read()    \n",
    "soup = bs.BeautifulSoup(sauce,'lxml')     # lxml is a parser\n",
    "#print(soup)\n",
    "\n",
    "repoNo = int(soup.find('span',class_='Counter').text)\n",
    "n1 = repoNo\n",
    "print(\"No. of repositories = \",n1)\n",
    "print()\n",
    "\n",
    "url2 = url + \"?tab=repositories\"\n",
    "sauce = urllib.request.urlopen(url2).read()    \n",
    "soup = bs.BeautifulSoup(sauce,'lxml')\n",
    "#print(soup)\n",
    "\n",
    "arr = [0]\n",
    "tags = soup.find_all('a', itemprop=\"name codeRepository\")\n",
    "for tag in tags:\n",
    "    if tag.text!=\"\":\n",
    "        arr.append((tag.text).lstrip())\n",
    "\n",
    "k=2\n",
    "while(len(arr)<=n1):\n",
    "    url3 = url + \"?page=\"+str(k)+\"&tab=repositories\"\n",
    "    k+=1\n",
    "    sauce = urllib.request.urlopen(url3).read()    \n",
    "    soup = bs.BeautifulSoup(sauce,'lxml')\n",
    "    tags = soup.find_all('a', itemprop=\"name codeRepository\")\n",
    "    for tag in tags:\n",
    "        if tag.text!=\"\":\n",
    "            arr.append((tag.text).lstrip())\n",
    "\n",
    "for i in range(1,len(arr)):\n",
    "    h1 = str(i) + \".  \"+str(arr[i])\n",
    "    print(h1) \n"
   ]
  },
  {
   "cell_type": "code",
   "execution_count": 32,
   "metadata": {},
   "outputs": [
    {
     "data": {
      "text/html": [
       "<style  type=\"text/css\" >\n",
       "    #T_f456cf08_7843_11e8_ae87_38c98616af18 th {\n",
       "          font-size: 15px;\n",
       "          text-align: center;\n",
       "          font-weight: bold;\n",
       "          color: #00c936;\n",
       "          background-color: ##f7f7f7;\n",
       "    }    #T_f456cf08_7843_11e8_ae87_38c98616af18 td {\n",
       "          font-size: 15px;\n",
       "          font-weight: bold;\n",
       "    }</style>  \n",
       "<table id=\"T_f456cf08_7843_11e8_ae87_38c98616af18\" > \n",
       "<thead>    <tr> \n",
       "        <th class=\"blank level0\" ></th> \n",
       "        <th class=\"col_heading level0 col0\" >email</th> \n",
       "        <th class=\"col_heading level0 col1\" >public_repos</th> \n",
       "        <th class=\"col_heading level0 col2\" >followers</th> \n",
       "        <th class=\"col_heading level0 col3\" >hireable</th> \n",
       "        <th class=\"col_heading level0 col4\" >company</th> \n",
       "        <th class=\"col_heading level0 col5\" >updated_at</th> \n",
       "        <th class=\"col_heading level0 col6\" >stack_reputation</th> \n",
       "        <th class=\"col_heading level0 col7\" >stack_answer_count</th> \n",
       "        <th class=\"col_heading level0 col8\" >CodeChef_rating</th> \n",
       "        <th class=\"col_heading level0 col9\" >CodeChef_global_rank</th> \n",
       "        <th class=\"col_heading level0 col10\" >CodeChef_Country_rank</th> \n",
       "        <th class=\"col_heading level0 col11\" >SPOJ_no_of_ques</th> \n",
       "        <th class=\"col_heading level0 col12\" >Codebuddy_rank</th> \n",
       "        <th class=\"col_heading level0 col13\" >Codebuddy_problem_solved</th> \n",
       "        <th class=\"col_heading level0 col14\" >Codebuddy_points</th> \n",
       "        <th class=\"col_heading level0 col15\" >CodeForce_ranking</th> \n",
       "        <th class=\"col_heading level0 col16\" >lang_1</th> \n",
       "        <th class=\"col_heading level0 col17\" >lang_2</th> \n",
       "        <th class=\"col_heading level0 col18\" >lang_3</th> \n",
       "        <th class=\"col_heading level0 col19\" >lang_4</th> \n",
       "    </tr></thead> \n",
       "<tbody>    <tr> \n",
       "        <th id=\"T_f456cf08_7843_11e8_ae87_38c98616af18level0_row0\" class=\"row_heading level0 row0\" >space</th> \n",
       "        <td id=\"T_f456cf08_7843_11e8_ae87_38c98616af18row0_col0\" class=\"data row0 col0\" >poke19962008@gmail.com</td> \n",
       "        <td id=\"T_f456cf08_7843_11e8_ae87_38c98616af18row0_col1\" class=\"data row0 col1\" >38</td> \n",
       "        <td id=\"T_f456cf08_7843_11e8_ae87_38c98616af18row0_col2\" class=\"data row0 col2\" >48</td> \n",
       "        <td id=\"T_f456cf08_7843_11e8_ae87_38c98616af18row0_col3\" class=\"data row0 col3\" >True</td> \n",
       "        <td id=\"T_f456cf08_7843_11e8_ae87_38c98616af18row0_col4\" class=\"data row0 col4\" >SRM University</td> \n",
       "        <td id=\"T_f456cf08_7843_11e8_ae87_38c98616af18row0_col5\" class=\"data row0 col5\" >2018-06-19T04:16:23Z</td> \n",
       "        <td id=\"T_f456cf08_7843_11e8_ae87_38c98616af18row0_col6\" class=\"data row0 col6\" >302</td> \n",
       "        <td id=\"T_f456cf08_7843_11e8_ae87_38c98616af18row0_col7\" class=\"data row0 col7\" >14</td> \n",
       "        <td id=\"T_f456cf08_7843_11e8_ae87_38c98616af18row0_col8\" class=\"data row0 col8\" >1692</td> \n",
       "        <td id=\"T_f456cf08_7843_11e8_ae87_38c98616af18row0_col9\" class=\"data row0 col9\" >12621</td> \n",
       "        <td id=\"T_f456cf08_7843_11e8_ae87_38c98616af18row0_col10\" class=\"data row0 col10\" >8992</td> \n",
       "        <td id=\"T_f456cf08_7843_11e8_ae87_38c98616af18row0_col11\" class=\"data row0 col11\" >4</td> \n",
       "        <td id=\"T_f456cf08_7843_11e8_ae87_38c98616af18row0_col12\" class=\"data row0 col12\" >5</td> \n",
       "        <td id=\"T_f456cf08_7843_11e8_ae87_38c98616af18row0_col13\" class=\"data row0 col13\" >161</td> \n",
       "        <td id=\"T_f456cf08_7843_11e8_ae87_38c98616af18row0_col14\" class=\"data row0 col14\" >102.44</td> \n",
       "        <td id=\"T_f456cf08_7843_11e8_ae87_38c98616af18row0_col15\" class=\"data row0 col15\" >1606</td> \n",
       "        <td id=\"T_f456cf08_7843_11e8_ae87_38c98616af18row0_col16\" class=\"data row0 col16\" >python</td> \n",
       "        <td id=\"T_f456cf08_7843_11e8_ae87_38c98616af18row0_col17\" class=\"data row0 col17\" >javascript</td> \n",
       "        <td id=\"T_f456cf08_7843_11e8_ae87_38c98616af18row0_col18\" class=\"data row0 col18\" >css</td> \n",
       "        <td id=\"T_f456cf08_7843_11e8_ae87_38c98616af18row0_col19\" class=\"data row0 col19\" >swift</td> \n",
       "    </tr></tbody> \n",
       "</table> "
      ],
      "text/plain": [
       "<pandas.io.formats.style.Styler at 0x1158ef7f0>"
      ]
     },
     "execution_count": 32,
     "metadata": {},
     "output_type": "execute_result"
    }
   ],
   "source": [
    "(df_new.style\n",
    "    .set_table_styles(styles))\n"
   ]
  },
  {
   "cell_type": "code",
   "execution_count": 33,
   "metadata": {},
   "outputs": [],
   "source": [
    "df_new.to_csv(\"final_data.csv\")"
   ]
  },
  {
   "cell_type": "markdown",
   "metadata": {},
   "source": [
    "--------"
   ]
  },
  {
   "cell_type": "markdown",
   "metadata": {},
   "source": [
    "## Scoring"
   ]
  },
  {
   "cell_type": "markdown",
   "metadata": {},
   "source": [
    "Next part is to score the candidates on following parameters - \n",
    " - Rank (25)\n",
    " - Number of problems solved (25)\n",
    " - Reputation (25)\n",
    " - Followers (15)\n",
    " - Activity (5)\n",
    " - Contributions (5)"
   ]
  },
  {
   "cell_type": "code",
   "execution_count": 34,
   "metadata": {},
   "outputs": [],
   "source": [
    "df_new['stack_reputation']= df_new['stack_reputation'].apply(pd.to_numeric)\n",
    "df_new['CodeChef_rating']= df_new['CodeChef_rating'].apply(pd.to_numeric)\n",
    "df_new['Codebuddy_points']= df_new['Codebuddy_points'].apply(pd.to_numeric)\n",
    "df_new['stack_answer_count']= df_new['stack_answer_count'].apply(pd.to_numeric)\n",
    "df_new['SPOJ_no_of_ques']= df_new['SPOJ_no_of_ques'].apply(pd.to_numeric)\n",
    "df_new['Codebuddy_problem_solved']= df_new['Codebuddy_problem_solved'].apply(pd.to_numeric)\n",
    "df_new['CodeChef_global_rank']= df_new['CodeChef_global_rank'].apply(pd.to_numeric)\n",
    "df_new['CodeChef_Country_rank']= df_new['CodeChef_Country_rank'].apply(pd.to_numeric)\n",
    "df_new['Codebuddy_rank']= df_new['Codebuddy_rank'].apply(pd.to_numeric)\n",
    "df_new['CodeForce_ranking']= df_new['CodeForce_ranking'].apply(pd.to_numeric)"
   ]
  },
  {
   "cell_type": "code",
   "execution_count": 35,
   "metadata": {},
   "outputs": [],
   "source": [
    "df_res = df_new.filter(['email'], axis=1)"
   ]
  },
  {
   "cell_type": "markdown",
   "metadata": {},
   "source": [
    "## 1. Reputation"
   ]
  },
  {
   "cell_type": "code",
   "execution_count": 36,
   "metadata": {},
   "outputs": [],
   "source": [
    "df_new.loc[ df_new['stack_reputation'] >= 360 , 'score_rep_1'] = 10\n",
    "df_new.loc[ (df_new['stack_reputation'] < 359) & (df_new['stack_reputation'] >= 150) , 'score_rep_1'] = 5\n",
    "df_new.loc[ (df_new['stack_reputation'] < 149) & (df_new['stack_reputation'] >= 100) , 'score_rep_1'] = 2\n",
    "\n",
    "df_new.loc[ df_new['CodeChef_rating'] > 1500 , 'score_rep_2'] = 10\n",
    "df_new.loc[ (df_new['CodeChef_rating'] < 1499) & (df_new['CodeChef_rating'] >= 1000) , 'score_rep_2'] = 5\n",
    "df_new.loc[ (df_new['CodeChef_rating'] < 999) & (df_new['CodeChef_rating'] >= 500) , 'score_rep_2'] = 2\n",
    "\n",
    "df_new.loc[ df_new['Codebuddy_points'] > 100 , 'score_rep_3'] = 5\n",
    "df_new.loc[ (df_new['Codebuddy_points'] < 99) & (df_new['Codebuddy_points'] >= 50) , 'score_rep_3'] = 2\n",
    "df_new.loc[ (df_new['Codebuddy_points'] < 49) & (df_new['Codebuddy_points'] >= 20) , 'score_rep_3'] = 1\n",
    "\n",
    "df_res['score_rep'] = df_new['score_rep_1'] + df_new['score_rep_2'] + df_new['score_rep_3']"
   ]
  },
  {
   "cell_type": "code",
   "execution_count": 37,
   "metadata": {},
   "outputs": [
    {
     "data": {
      "text/html": [
       "<div>\n",
       "<style scoped>\n",
       "    .dataframe tbody tr th:only-of-type {\n",
       "        vertical-align: middle;\n",
       "    }\n",
       "\n",
       "    .dataframe tbody tr th {\n",
       "        vertical-align: top;\n",
       "    }\n",
       "\n",
       "    .dataframe thead th {\n",
       "        text-align: right;\n",
       "    }\n",
       "</style>\n",
       "<table border=\"1\" class=\"dataframe\">\n",
       "  <thead>\n",
       "    <tr style=\"text-align: right;\">\n",
       "      <th></th>\n",
       "      <th>email</th>\n",
       "      <th>score_rep</th>\n",
       "    </tr>\n",
       "  </thead>\n",
       "  <tbody>\n",
       "    <tr>\n",
       "      <th>space</th>\n",
       "      <td>poke19962008@gmail.com</td>\n",
       "      <td>20.0</td>\n",
       "    </tr>\n",
       "  </tbody>\n",
       "</table>\n",
       "</div>"
      ],
      "text/plain": [
       "                        email  score_rep\n",
       "space  poke19962008@gmail.com       20.0"
      ]
     },
     "execution_count": 37,
     "metadata": {},
     "output_type": "execute_result"
    }
   ],
   "source": [
    "df_res"
   ]
  },
  {
   "cell_type": "markdown",
   "metadata": {},
   "source": [
    "-----\n",
    "## 2. Number of Problems Solved "
   ]
  },
  {
   "cell_type": "code",
   "execution_count": 38,
   "metadata": {},
   "outputs": [],
   "source": [
    "df_new.loc[ df_new['stack_answer_count'] >= 20 , 'score_ps_1'] = 9\n",
    "df_new.loc[ (df_new['stack_answer_count'] < 20) & (df_new['stack_answer_count'] >= 10) , 'score_ps_1'] = 5\n",
    "df_new.loc[ (df_new['stack_answer_count'] < 10) & (df_new['stack_answer_count'] >= 5) , 'score_ps_1'] = 3\n",
    "\n",
    "df_new.loc[ df_new['SPOJ_no_of_ques'] >= 10 , 'score_ps_2'] = 8\n",
    "df_new.loc[ (df_new['SPOJ_no_of_ques'] < 9) & (df_new['SPOJ_no_of_ques'] >= 5) , 'score_ps_2'] = 4\n",
    "df_new.loc[ (df_new['SPOJ_no_of_ques'] < 5) & (df_new['SPOJ_no_of_ques'] >= 2) , 'score_ps_2'] = 2\n",
    "\n",
    "df_new.loc[ df_new['Codebuddy_problem_solved'] >= 50 , 'score_ps_3'] = 8\n",
    "df_new.loc[ (df_new['Codebuddy_problem_solved'] < 49) & (df_new['Codebuddy_problem_solved'] >= 25) , 'score_ps_3'] = 4\n",
    "df_new.loc[ (df_new['Codebuddy_problem_solved'] < 24) & (df_new['Codebuddy_problem_solved'] >= 10) , 'score_ps_3'] = 2\n",
    "\n",
    "df_res['score_ps'] = df_new['score_ps_1'] + df_new['score_ps_2'] + df_new['score_ps_3']"
   ]
  },
  {
   "cell_type": "code",
   "execution_count": 39,
   "metadata": {},
   "outputs": [
    {
     "data": {
      "text/html": [
       "<div>\n",
       "<style scoped>\n",
       "    .dataframe tbody tr th:only-of-type {\n",
       "        vertical-align: middle;\n",
       "    }\n",
       "\n",
       "    .dataframe tbody tr th {\n",
       "        vertical-align: top;\n",
       "    }\n",
       "\n",
       "    .dataframe thead th {\n",
       "        text-align: right;\n",
       "    }\n",
       "</style>\n",
       "<table border=\"1\" class=\"dataframe\">\n",
       "  <thead>\n",
       "    <tr style=\"text-align: right;\">\n",
       "      <th></th>\n",
       "      <th>email</th>\n",
       "      <th>score_rep</th>\n",
       "      <th>score_ps</th>\n",
       "    </tr>\n",
       "  </thead>\n",
       "  <tbody>\n",
       "    <tr>\n",
       "      <th>space</th>\n",
       "      <td>poke19962008@gmail.com</td>\n",
       "      <td>20.0</td>\n",
       "      <td>15.0</td>\n",
       "    </tr>\n",
       "  </tbody>\n",
       "</table>\n",
       "</div>"
      ],
      "text/plain": [
       "                        email  score_rep  score_ps\n",
       "space  poke19962008@gmail.com       20.0      15.0"
      ]
     },
     "execution_count": 39,
     "metadata": {},
     "output_type": "execute_result"
    }
   ],
   "source": [
    "df_res"
   ]
  },
  {
   "cell_type": "markdown",
   "metadata": {},
   "source": [
    "------\n",
    "## 3. Ranking"
   ]
  },
  {
   "cell_type": "code",
   "execution_count": 40,
   "metadata": {},
   "outputs": [],
   "source": [
    "df_new.loc[ df_new['CodeChef_global_rank'] <= 5000 , 'score_rank_1'] = 7\n",
    "df_new.loc[ (df_new['CodeChef_global_rank'] > 5000) & (df_new['CodeChef_global_rank'] <= 15000) , 'score_rank_1'] = 4\n",
    "df_new.loc[ (df_new['CodeChef_global_rank'] > 15000) & (df_new['CodeChef_global_rank'] <= 25000) , 'score_rank_1'] = 2\n",
    "\n",
    "df_new.loc[ df_new['CodeChef_Country_rank'] <= 2000 , 'score_rank_2'] = 6\n",
    "df_new.loc[ (df_new['CodeChef_Country_rank'] > 2000) & (df_new['CodeChef_Country_rank'] <= 7000) , 'score_rank_2'] = 3\n",
    "df_new.loc[ (df_new['CodeChef_Country_rank'] > 7000) & (df_new['CodeChef_Country_rank'] <= 15000) , 'score_rank_2'] = 1\n",
    "\n",
    "df_new.loc[ df_new['Codebuddy_rank'] <= 50 , 'score_rank_3'] = 6\n",
    "df_new.loc[ (df_new['Codebuddy_rank'] > 50) & (df_new['Codebuddy_rank'] <= 250) , 'score_rank_3'] = 3\n",
    "df_new.loc[ (df_new['Codebuddy_rank'] > 250) & (df_new['Codebuddy_rank'] <= 500) , 'score_rank_3'] = 1\n",
    "\n",
    "df_new.loc[ df_new['CodeForce_ranking'] <= 500 , 'score_rank_4'] = 6\n",
    "df_new.loc[ (df_new['CodeForce_ranking'] > 500) & (df_new['CodeForce_ranking'] <= 2000) , 'score_rank_4'] = 3\n",
    "df_new.loc[ (df_new['CodeForce_ranking'] > 2000) & (df_new['CodeForce_ranking'] <= 5000) , 'score_rank_4'] = 1\n",
    "\n",
    "df_res['score_rank'] = df_new['score_rank_1'] + df_new['score_rank_2'] + df_new['score_rank_3'] + df_new['score_rank_4'] \n"
   ]
  },
  {
   "cell_type": "code",
   "execution_count": 41,
   "metadata": {},
   "outputs": [
    {
     "data": {
      "text/html": [
       "<div>\n",
       "<style scoped>\n",
       "    .dataframe tbody tr th:only-of-type {\n",
       "        vertical-align: middle;\n",
       "    }\n",
       "\n",
       "    .dataframe tbody tr th {\n",
       "        vertical-align: top;\n",
       "    }\n",
       "\n",
       "    .dataframe thead th {\n",
       "        text-align: right;\n",
       "    }\n",
       "</style>\n",
       "<table border=\"1\" class=\"dataframe\">\n",
       "  <thead>\n",
       "    <tr style=\"text-align: right;\">\n",
       "      <th></th>\n",
       "      <th>email</th>\n",
       "      <th>score_rep</th>\n",
       "      <th>score_ps</th>\n",
       "      <th>score_rank</th>\n",
       "    </tr>\n",
       "  </thead>\n",
       "  <tbody>\n",
       "    <tr>\n",
       "      <th>space</th>\n",
       "      <td>poke19962008@gmail.com</td>\n",
       "      <td>20.0</td>\n",
       "      <td>15.0</td>\n",
       "      <td>14.0</td>\n",
       "    </tr>\n",
       "  </tbody>\n",
       "</table>\n",
       "</div>"
      ],
      "text/plain": [
       "                        email  score_rep  score_ps  score_rank\n",
       "space  poke19962008@gmail.com       20.0      15.0        14.0"
      ]
     },
     "execution_count": 41,
     "metadata": {},
     "output_type": "execute_result"
    }
   ],
   "source": [
    "df_res"
   ]
  },
  {
   "cell_type": "markdown",
   "metadata": {},
   "source": [
    "-------\n",
    "## 4. Activity"
   ]
  },
  {
   "cell_type": "code",
   "execution_count": 42,
   "metadata": {},
   "outputs": [
    {
     "data": {
      "text/plain": [
       "space   2018-06-19\n",
       "Name: updated_at, dtype: datetime64[ns]"
      ]
     },
     "execution_count": 42,
     "metadata": {},
     "output_type": "execute_result"
    }
   ],
   "source": [
    "df_new['updated_at'] = df_new['updated_at'].apply(pd.to_datetime)\n",
    "df_new['updated_at']\n",
    "df_new['updated_at'] = df_new['updated_at'].dt.date\n",
    "df_new['updated_at'] = df_new['updated_at'].apply(pd.to_datetime)\n",
    "df_new['updated_at']"
   ]
  },
  {
   "cell_type": "code",
   "execution_count": 43,
   "metadata": {},
   "outputs": [
    {
     "data": {
      "text/plain": [
       "space   2018-06-24\n",
       "Name: current_date, dtype: datetime64[ns]"
      ]
     },
     "execution_count": 43,
     "metadata": {},
     "output_type": "execute_result"
    }
   ],
   "source": [
    "df_new['current_date'] = '2018-06-24'\n",
    "df_new['current_date']= df_new['current_date'].apply(pd.to_datetime)\n",
    "df_new['current_date']"
   ]
  },
  {
   "cell_type": "code",
   "execution_count": 44,
   "metadata": {},
   "outputs": [
    {
     "data": {
      "text/plain": [
       "space    5 days 00:00:00.000000000\n",
       "Name: last_active, dtype: object"
      ]
     },
     "execution_count": 44,
     "metadata": {},
     "output_type": "execute_result"
    }
   ],
   "source": [
    "from datetime import date\n",
    "df_new['last_active'] = df_new['current_date'] - df_new['updated_at']\n",
    "df_new['last_active'].astype(str)\n"
   ]
  },
  {
   "cell_type": "code",
   "execution_count": 45,
   "metadata": {},
   "outputs": [
    {
     "data": {
      "text/plain": [
       "space    5\n",
       "Name: last_active, dtype: int64"
      ]
     },
     "execution_count": 45,
     "metadata": {},
     "output_type": "execute_result"
    }
   ],
   "source": [
    "df_new['last_active'] = df_new['last_active'].astype(str).str[0]\n",
    "df_new['last_active']= df_new['last_active'].apply(pd.to_numeric)\n",
    "df_new['last_active']"
   ]
  },
  {
   "cell_type": "code",
   "execution_count": 46,
   "metadata": {},
   "outputs": [],
   "source": [
    "df_new.loc[df_new['last_active'] <= 7 , 'score_activity_1'] = 5\n",
    "df_new.loc[ (df_new['last_active'] > 8) & (df_new['last_active'] <= 15) , 'score_activity_1'] = 3\n",
    "df_new.loc[ (df_new['last_active'] > 15) & (df_new['last_active'] <= 30) , 'score_activity_1'] = 1\n",
    "\n",
    "df_res['score_activity'] = df_new['score_activity_1'] \n",
    "\n"
   ]
  },
  {
   "cell_type": "markdown",
   "metadata": {},
   "source": [
    "--------\n",
    "## 5. Followers"
   ]
  },
  {
   "cell_type": "code",
   "execution_count": 47,
   "metadata": {},
   "outputs": [
    {
     "data": {
      "text/html": [
       "<div>\n",
       "<style scoped>\n",
       "    .dataframe tbody tr th:only-of-type {\n",
       "        vertical-align: middle;\n",
       "    }\n",
       "\n",
       "    .dataframe tbody tr th {\n",
       "        vertical-align: top;\n",
       "    }\n",
       "\n",
       "    .dataframe thead th {\n",
       "        text-align: right;\n",
       "    }\n",
       "</style>\n",
       "<table border=\"1\" class=\"dataframe\">\n",
       "  <thead>\n",
       "    <tr style=\"text-align: right;\">\n",
       "      <th></th>\n",
       "      <th>email</th>\n",
       "      <th>score_rep</th>\n",
       "      <th>score_ps</th>\n",
       "      <th>score_rank</th>\n",
       "      <th>score_activity</th>\n",
       "      <th>score_followers</th>\n",
       "    </tr>\n",
       "  </thead>\n",
       "  <tbody>\n",
       "    <tr>\n",
       "      <th>space</th>\n",
       "      <td>poke19962008@gmail.com</td>\n",
       "      <td>20.0</td>\n",
       "      <td>15.0</td>\n",
       "      <td>14.0</td>\n",
       "      <td>5.0</td>\n",
       "      <td>5.0</td>\n",
       "    </tr>\n",
       "  </tbody>\n",
       "</table>\n",
       "</div>"
      ],
      "text/plain": [
       "                        email  score_rep  score_ps  score_rank  \\\n",
       "space  poke19962008@gmail.com       20.0      15.0        14.0   \n",
       "\n",
       "       score_activity  score_followers  \n",
       "space             5.0              5.0  "
      ]
     },
     "execution_count": 47,
     "metadata": {},
     "output_type": "execute_result"
    }
   ],
   "source": [
    "df_new.loc[ df_new['followers'] >= 200 , 'score_followers_1'] = 15\n",
    "df_new.loc[ (df_new['followers'] < 200) & (df_new['followers'] >= 50) , 'score_followers_1'] = 10\n",
    "df_new.loc[ (df_new['followers'] < 50) & (df_new['followers'] >= 30) , 'score_followers_1'] = 5\n",
    "\n",
    "df_res['score_followers'] = df_new['score_followers_1']\n",
    "df_res\n",
    "\n"
   ]
  },
  {
   "cell_type": "markdown",
   "metadata": {},
   "source": [
    "------\n",
    "## 6. Contributions"
   ]
  },
  {
   "cell_type": "code",
   "execution_count": 48,
   "metadata": {},
   "outputs": [
    {
     "data": {
      "text/html": [
       "<div>\n",
       "<style scoped>\n",
       "    .dataframe tbody tr th:only-of-type {\n",
       "        vertical-align: middle;\n",
       "    }\n",
       "\n",
       "    .dataframe tbody tr th {\n",
       "        vertical-align: top;\n",
       "    }\n",
       "\n",
       "    .dataframe thead th {\n",
       "        text-align: right;\n",
       "    }\n",
       "</style>\n",
       "<table border=\"1\" class=\"dataframe\">\n",
       "  <thead>\n",
       "    <tr style=\"text-align: right;\">\n",
       "      <th></th>\n",
       "      <th>email</th>\n",
       "      <th>score_rep</th>\n",
       "      <th>score_ps</th>\n",
       "      <th>score_rank</th>\n",
       "      <th>score_activity</th>\n",
       "      <th>score_followers</th>\n",
       "      <th>score_contributions</th>\n",
       "    </tr>\n",
       "  </thead>\n",
       "  <tbody>\n",
       "    <tr>\n",
       "      <th>space</th>\n",
       "      <td>poke19962008@gmail.com</td>\n",
       "      <td>20.0</td>\n",
       "      <td>15.0</td>\n",
       "      <td>14.0</td>\n",
       "      <td>5.0</td>\n",
       "      <td>5.0</td>\n",
       "      <td>5.0</td>\n",
       "    </tr>\n",
       "  </tbody>\n",
       "</table>\n",
       "</div>"
      ],
      "text/plain": [
       "                        email  score_rep  score_ps  score_rank  \\\n",
       "space  poke19962008@gmail.com       20.0      15.0        14.0   \n",
       "\n",
       "       score_activity  score_followers  score_contributions  \n",
       "space             5.0              5.0                  5.0  "
      ]
     },
     "execution_count": 48,
     "metadata": {},
     "output_type": "execute_result"
    }
   ],
   "source": [
    "df_new.loc[ df_new['public_repos'] >= 30 , 'score_con_1'] = 5\n",
    "df_new.loc[ (df_new['followers'] < 30) & (df_new['followers'] >= 10) , 'score_con_1'] = 3\n",
    "df_new.loc[ (df_new['followers'] < 10) & (df_new['followers'] >= 3) , 'score_con_1'] = 1\n",
    "\n",
    "df_res['score_contributions'] = df_new['score_con_1']\n",
    "df_res"
   ]
  },
  {
   "cell_type": "markdown",
   "metadata": {},
   "source": [
    "-------\n",
    "\n",
    "## 7. Final Score"
   ]
  },
  {
   "cell_type": "code",
   "execution_count": 49,
   "metadata": {},
   "outputs": [],
   "source": [
    "df_res['total_score'] = df_res['score_rep'] + df_res['score_ps'] + df_res['score_rank'] + df_res['score_activity'] + df_res['score_followers'] + df_res['score_contributions']"
   ]
  },
  {
   "cell_type": "code",
   "execution_count": 50,
   "metadata": {},
   "outputs": [
    {
     "data": {
      "text/html": [
       "<style  type=\"text/css\" >\n",
       "    #T_f700d3a2_7843_11e8_985c_38c98616af18 th {\n",
       "          font-size: 15px;\n",
       "          text-align: center;\n",
       "          font-weight: bold;\n",
       "          color: #00c936;\n",
       "          background-color: ##f7f7f7;\n",
       "    }    #T_f700d3a2_7843_11e8_985c_38c98616af18 td {\n",
       "          font-size: 15px;\n",
       "          font-weight: bold;\n",
       "    }    #T_f700d3a2_7843_11e8_985c_38c98616af18row0_col7 {\n",
       "            color:  red;\n",
       "        }</style>  \n",
       "<table id=\"T_f700d3a2_7843_11e8_985c_38c98616af18\" > \n",
       "<thead>    <tr> \n",
       "        <th class=\"blank level0\" ></th> \n",
       "        <th class=\"col_heading level0 col0\" >email</th> \n",
       "        <th class=\"col_heading level0 col1\" >score_rep</th> \n",
       "        <th class=\"col_heading level0 col2\" >score_ps</th> \n",
       "        <th class=\"col_heading level0 col3\" >score_rank</th> \n",
       "        <th class=\"col_heading level0 col4\" >score_activity</th> \n",
       "        <th class=\"col_heading level0 col5\" >score_followers</th> \n",
       "        <th class=\"col_heading level0 col6\" >score_contributions</th> \n",
       "        <th class=\"col_heading level0 col7\" >total_score</th> \n",
       "    </tr></thead> \n",
       "<tbody>    <tr> \n",
       "        <th id=\"T_f700d3a2_7843_11e8_985c_38c98616af18level0_row0\" class=\"row_heading level0 row0\" >space</th> \n",
       "        <td id=\"T_f700d3a2_7843_11e8_985c_38c98616af18row0_col0\" class=\"data row0 col0\" >poke19962008@gmail.com</td> \n",
       "        <td id=\"T_f700d3a2_7843_11e8_985c_38c98616af18row0_col1\" class=\"data row0 col1\" >20</td> \n",
       "        <td id=\"T_f700d3a2_7843_11e8_985c_38c98616af18row0_col2\" class=\"data row0 col2\" >15</td> \n",
       "        <td id=\"T_f700d3a2_7843_11e8_985c_38c98616af18row0_col3\" class=\"data row0 col3\" >14</td> \n",
       "        <td id=\"T_f700d3a2_7843_11e8_985c_38c98616af18row0_col4\" class=\"data row0 col4\" >5</td> \n",
       "        <td id=\"T_f700d3a2_7843_11e8_985c_38c98616af18row0_col5\" class=\"data row0 col5\" >5</td> \n",
       "        <td id=\"T_f700d3a2_7843_11e8_985c_38c98616af18row0_col6\" class=\"data row0 col6\" >5</td> \n",
       "        <td id=\"T_f700d3a2_7843_11e8_985c_38c98616af18row0_col7\" class=\"data row0 col7\" >64</td> \n",
       "    </tr></tbody> \n",
       "</table> "
      ],
      "text/plain": [
       "<pandas.io.formats.style.Styler at 0x116a28828>"
      ]
     },
     "execution_count": 50,
     "metadata": {},
     "output_type": "execute_result"
    }
   ],
   "source": [
    "(df_res.style\n",
    "    .applymap(color_negative_red, subset=['total_score'])\n",
    "    .set_table_styles(styles))"
   ]
  },
  {
   "cell_type": "markdown",
   "metadata": {},
   "source": [
    "-------\n",
    "-------"
   ]
  },
  {
   "cell_type": "markdown",
   "metadata": {},
   "source": [
    "## Demo\n",
    "\n",
    "   - Visualizing candidates perfomance throughs charts and graphs"
   ]
  },
  {
   "cell_type": "markdown",
   "metadata": {},
   "source": [
    "-------\n",
    "-------"
   ]
  },
  {
   "cell_type": "markdown",
   "metadata": {},
   "source": [
    "## Tech Stack\n",
    "\n",
    "    - Python: BeautifulSoup, Urllib, Pandas, Scipy\n",
    "    - D3.js\n",
    "\n",
    "-------\n",
    "-------"
   ]
  },
  {
   "cell_type": "markdown",
   "metadata": {},
   "source": [
    "## What's Next?\n",
    "\n",
    "    - Scorey for non technical recruitments - Sales, Marketing and HR\n",
    "    - Integrating Machine learning components for rule generation\n",
    "    - Handling missing data exceptions dynamically\n",
    "    \n",
    "-------\n",
    "-------\n",
    "\n",
    "Thank you!"
   ]
  },
  {
   "cell_type": "code",
   "execution_count": null,
   "metadata": {},
   "outputs": [],
   "source": []
  }
 ],
 "metadata": {
  "kernelspec": {
   "display_name": "Python 3",
   "language": "python",
   "name": "python3"
  },
  "language_info": {
   "codemirror_mode": {
    "name": "ipython",
    "version": 3
   },
   "file_extension": ".py",
   "mimetype": "text/x-python",
   "name": "python",
   "nbconvert_exporter": "python",
   "pygments_lexer": "ipython3",
   "version": "3.6.4"
  }
 },
 "nbformat": 4,
 "nbformat_minor": 2
}
